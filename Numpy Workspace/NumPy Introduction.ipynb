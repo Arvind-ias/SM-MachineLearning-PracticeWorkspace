{
 "cells": [
  {
   "cell_type": "markdown",
   "id": "03165499",
   "metadata": {},
   "source": [
    "N-dimensional array is an object, capable of holding data elements of the same type and of a fixed size in multiple dimensions. "
   ]
  },
  {
   "cell_type": "code",
   "execution_count": 6,
   "id": "e701a49c",
   "metadata": {},
   "outputs": [
    {
     "data": {
      "text/plain": [
       "array([1, 3, 5, 7, 9])"
      ]
     },
     "execution_count": 6,
     "metadata": {},
     "output_type": "execute_result"
    }
   ],
   "source": [
    "import numpy as np \n",
    "\n",
    "#Creation of a 1-D array of five elements,\n",
    "\n",
    "x = np.array([1,3,5,7,9]) # using 'array' method\n",
    "x"
   ]
  },
  {
   "cell_type": "code",
   "execution_count": 7,
   "id": "f2b1b7c5",
   "metadata": {},
   "outputs": [
    {
     "data": {
      "text/plain": [
       "numpy.ndarray"
      ]
     },
     "execution_count": 7,
     "metadata": {},
     "output_type": "execute_result"
    }
   ],
   "source": [
    "type(x)"
   ]
  },
  {
   "cell_type": "code",
   "execution_count": 8,
   "id": "6f1d440f",
   "metadata": {},
   "outputs": [
    {
     "data": {
      "text/plain": [
       "array([[1, 2, 3],\n",
       "       [4, 5, 6]])"
      ]
     },
     "execution_count": 8,
     "metadata": {},
     "output_type": "execute_result"
    }
   ],
   "source": [
    "#Creation of a 2-D array from a list of lists\n",
    "\n",
    "y = np.array([[1,2,3],[4,5,6]])\n",
    "y"
   ]
  },
  {
   "cell_type": "markdown",
   "id": "386da79a",
   "metadata": {},
   "source": [
    "Ndarrays possess several noteworthy attributes, including:\n",
    "\n",
    "    ndim: This attribute returns the number of dimensions of the array.\n",
    "    shape: The shape attribute returns the shape of the array as a tuple.\n",
    "    size: This attribute returns the total number of elements in the array.\n",
    "    dtype: The dtype attribute returns the data type of each element in the array.\n",
    "    itemsize: This attribute returns the size of each element in bytes.\n",
    "    nbytes: The nbytes attribute returns the total number of bytes consumed by all elements in the array."
   ]
  },
  {
   "cell_type": "code",
   "execution_count": null,
   "id": "54cbdb09",
   "metadata": {},
   "outputs": [],
   "source": []
  }
 ],
 "metadata": {
  "kernelspec": {
   "display_name": "Python 3 (ipykernel)",
   "language": "python",
   "name": "python3"
  },
  "language_info": {
   "codemirror_mode": {
    "name": "ipython",
    "version": 3
   },
   "file_extension": ".py",
   "mimetype": "text/x-python",
   "name": "python",
   "nbconvert_exporter": "python",
   "pygments_lexer": "ipython3",
   "version": "3.9.12"
  }
 },
 "nbformat": 4,
 "nbformat_minor": 5
}
