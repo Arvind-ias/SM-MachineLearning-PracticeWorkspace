{
 "cells": [
  {
   "cell_type": "markdown",
   "id": "0616ec72",
   "metadata": {},
   "source": [
    "N-dimensional array is an object, capable of holding data elements of the same type and of a fixed size in multiple dimensions. "
   ]
  },
  {
   "cell_type": "code",
   "execution_count": 6,
   "id": "c8f4a0f8",
   "metadata": {},
   "outputs": [
    {
     "data": {
      "text/plain": [
       "array([1, 3, 5, 7, 9])"
      ]
     },
     "execution_count": 6,
     "metadata": {},
     "output_type": "execute_result"
    }
   ],
   "source": [
    "import numpy as np \n",
    "\n",
    "#Creation of a 1-D array of five elements,\n",
    "\n",
    "x = np.array([1,3,5,7,9]) # using 'array' method\n",
    "x"
   ]
  },
  {
   "cell_type": "code",
   "execution_count": 7,
   "id": "5e49bbba",
   "metadata": {},
   "outputs": [
    {
     "data": {
      "text/plain": [
       "numpy.ndarray"
      ]
     },
     "execution_count": 7,
     "metadata": {},
     "output_type": "execute_result"
    }
   ],
   "source": [
    "type(x)"
   ]
  },
  {
   "cell_type": "code",
   "execution_count": 8,
   "id": "c5a4e5b2",
   "metadata": {},
   "outputs": [
    {
     "data": {
      "text/plain": [
       "array([[1, 2, 3],\n",
       "       [4, 5, 6]])"
      ]
     },
     "execution_count": 8,
     "metadata": {},
     "output_type": "execute_result"
    }
   ],
   "source": [
    "#Creation of a 2-D array from a list of lists\n",
    "\n",
    "y = np.array([[1,2,3],[4,5,6]])\n",
    "y"
   ]
  },
  {
   "cell_type": "markdown",
   "id": "a3c4d60d",
   "metadata": {},
   "source": [
    "Ndarrays possess several noteworthy attributes, including:\n",
    "\n",
    "    ndim: This attribute returns the number of dimensions of the array.\n",
    "    shape: The shape attribute returns the shape of the array as a tuple.\n",
    "    size: This attribute returns the total number of elements in the array.\n",
    "    dtype: The dtype attribute returns the data type of each element in the array.\n",
    "    itemsize: This attribute returns the size of each element in bytes.\n",
    "    nbytes: The nbytes attribute returns the total number of bytes consumed by all elements in the array."
   ]
  },
  {
   "cell_type": "code",
   "execution_count": 9,
   "id": "f8839d26",
   "metadata": {},
   "outputs": [
    {
     "name": "stdout",
     "output_type": "stream",
     "text": [
      "2\n",
      "(2, 3)\n",
      "6\n",
      "int32\n",
      "4\n",
      "24\n"
     ]
    }
   ],
   "source": [
    "print(y.ndim)\n",
    "print(y.shape)\n",
    "print(y.size)\n",
    "print(y.dtype)\n",
    "print(y.itemsize)\n",
    "print(y.nbytes)"
   ]
  },
  {
   "cell_type": "markdown",
   "id": "58fa8ee5",
   "metadata": {},
   "source": [
    "NumPy offers support for a diverse range of data types, which are determined based on the number of bytes required by the data elements. It is possible to explicitly specify a data type by making use of the dtype argument\n"
   ]
  },
  {
   "cell_type": "code",
   "execution_count": 10,
   "id": "ecc335cd",
   "metadata": {},
   "outputs": [],
   "source": [
    "z = np.array([1,5,3,7,9],dtype='float64')"
   ]
  },
  {
   "cell_type": "code",
   "execution_count": 11,
   "id": "c0aa4cde",
   "metadata": {},
   "outputs": [
    {
     "data": {
      "text/plain": [
       "array([1., 5., 3., 7., 9.])"
      ]
     },
     "execution_count": 11,
     "metadata": {},
     "output_type": "execute_result"
    }
   ],
   "source": [
    "z"
   ]
  },
  {
   "cell_type": "code",
   "execution_count": 12,
   "id": "8ea2636e",
   "metadata": {},
   "outputs": [
    {
     "data": {
      "text/plain": [
       "dtype('float64')"
      ]
     },
     "execution_count": 12,
     "metadata": {},
     "output_type": "execute_result"
    }
   ],
   "source": [
    "z.dtype"
   ]
  },
  {
   "cell_type": "markdown",
   "id": "a30710f1",
   "metadata": {},
   "source": [
    "## Creation of NumPy Arrays "
   ]
  },
  {
   "cell_type": "markdown",
   "id": "4ec1ba9f",
   "metadata": {},
   "source": [
    "There are several ways to create ndarrays in NumPy. Here are a few of them:\n",
    "\n",
    "    Using Python built-in datatypes like lists or tuples.\n",
    "    Using NumPy array creation methods such as ones, ones_like, zeros, and zeros_like.\n",
    "    Utilizing NumPy's numeric sequence generators.\n",
    "    Leveraging NumPy's random module.\n",
    "    Reading data from a file and creating an ndarray.\n",
    "By making use of these methods, one can create ndarrays with different shapes, sizes, and data types. This flexibility allows for efficient manipulation and computation of large amounts of numerical data in NumPy."
   ]
  },
  {
   "cell_type": "code",
   "execution_count": 21,
   "id": "2b3a06a0",
   "metadata": {},
   "outputs": [],
   "source": [
    "#Using Python built-in datatypes like lists or tuples.\n",
    "list1 = [[1,2,3],[4,5,6],[7,8,9]]\n",
    "arr1 = np.array(list1,dtype='int64')"
   ]
  },
  {
   "cell_type": "code",
   "execution_count": 22,
   "id": "146eb701",
   "metadata": {},
   "outputs": [
    {
     "data": {
      "text/plain": [
       "dtype('int64')"
      ]
     },
     "execution_count": 22,
     "metadata": {},
     "output_type": "execute_result"
    }
   ],
   "source": [
    "arr1.dtype"
   ]
  },
  {
   "cell_type": "code",
   "execution_count": 23,
   "id": "f1a4ca42",
   "metadata": {},
   "outputs": [
    {
     "data": {
      "text/plain": [
       "(3, 3)"
      ]
     },
     "execution_count": 23,
     "metadata": {},
     "output_type": "execute_result"
    }
   ],
   "source": [
    "arr1.shape"
   ]
  },
  {
   "cell_type": "code",
   "execution_count": 24,
   "id": "494fd2f4",
   "metadata": {},
   "outputs": [
    {
     "data": {
      "text/plain": [
       "array([[1, 2, 3],\n",
       "       [4, 5, 6],\n",
       "       [7, 8, 9]], dtype=int64)"
      ]
     },
     "execution_count": 24,
     "metadata": {},
     "output_type": "execute_result"
    }
   ],
   "source": [
    "arr1"
   ]
  },
  {
   "cell_type": "code",
   "execution_count": 25,
   "id": "717d7df8",
   "metadata": {},
   "outputs": [
    {
     "name": "stdout",
     "output_type": "stream",
     "text": [
      "[[0. 0. 0. 0.]\n",
      " [0. 0. 0. 0.]\n",
      " [0. 0. 0. 0.]]\n"
     ]
    }
   ],
   "source": [
    "#Using NumPy array creation methods such as ones, ones_like, zeros, and zeros_like.\n",
    "\n",
    "#Using zeros method\n",
    "\n",
    "arr2 = np.zeros(shape=(3,4))\n",
    "print(arr2)"
   ]
  },
  {
   "cell_type": "code",
   "execution_count": 27,
   "id": "4c4044aa",
   "metadata": {},
   "outputs": [
    {
     "name": "stdout",
     "output_type": "stream",
     "text": [
      "[[7.9 7.9 7.9]\n",
      " [7.9 7.9 7.9]\n",
      " [7.9 7.9 7.9]\n",
      " [7.9 7.9 7.9]]\n"
     ]
    }
   ],
   "source": [
    "#using full method\n",
    "\n",
    "arr3 = np.full(shape=(4,3),fill_value=7.9)\n",
    "print(arr3)"
   ]
  },
  {
   "cell_type": "code",
   "execution_count": 28,
   "id": "9357bf38",
   "metadata": {},
   "outputs": [
    {
     "name": "stdout",
     "output_type": "stream",
     "text": [
      "[[1. 1. 1. 1.]\n",
      " [1. 1. 1. 1.]\n",
      " [1. 1. 1. 1.]]\n"
     ]
    }
   ],
   "source": [
    "#using Ones method\n",
    "\n",
    "arr4 = np.ones(shape=(3,4))\n",
    "print(arr4)"
   ]
  },
  {
   "cell_type": "code",
   "execution_count": 29,
   "id": "b40fdfd1",
   "metadata": {},
   "outputs": [
    {
     "data": {
      "text/plain": [
       "array([[0, 0, 0],\n",
       "       [0, 0, 0],\n",
       "       [0, 0, 0]])"
      ]
     },
     "execution_count": 29,
     "metadata": {},
     "output_type": "execute_result"
    }
   ],
   "source": [
    "my_array = np.array([[1, 2, 3], [4, 5, 6],[7,8,9]])\n",
    "\n",
    "#using ones_like , zeros_like\n",
    "\n",
    "arr5 = np.zeros_like(my_array)\n",
    "arr5"
   ]
  },
  {
   "cell_type": "code",
   "execution_count": 30,
   "id": "d3b7cefa",
   "metadata": {
    "scrolled": true
   },
   "outputs": [
    {
     "data": {
      "text/plain": [
       "array([[1, 1, 1],\n",
       "       [1, 1, 1],\n",
       "       [1, 1, 1]])"
      ]
     },
     "execution_count": 30,
     "metadata": {},
     "output_type": "execute_result"
    }
   ],
   "source": [
    "arr6 = np.ones_like(my_array)\n",
    "arr6"
   ]
  },
  {
   "cell_type": "code",
   "execution_count": 31,
   "id": "1ce8f3c3",
   "metadata": {},
   "outputs": [
    {
     "name": "stdout",
     "output_type": "stream",
     "text": [
      "[0 2 4 6 8]\n"
     ]
    }
   ],
   "source": [
    "# Generate a sequence of numbers from 0 to 9 with a step of 2\n",
    "\n",
    "arr = np.arange(0, 10, 2)\n",
    "print(arr) "
   ]
  },
  {
   "cell_type": "code",
   "execution_count": 32,
   "id": "0f494299",
   "metadata": {},
   "outputs": [
    {
     "name": "stdout",
     "output_type": "stream",
     "text": [
      "[ 0.   2.5  5.   7.5 10. ]\n"
     ]
    }
   ],
   "source": [
    "# Generate a sequence of 5 evenly spaced numbers from 0 to 10\n",
    "arr = np.linspace(0, 10, 5)\n",
    "print(arr)"
   ]
  },
  {
   "cell_type": "code",
   "execution_count": 36,
   "id": "67f6db44",
   "metadata": {
    "scrolled": true
   },
   "outputs": [
    {
     "name": "stdout",
     "output_type": "stream",
     "text": [
      "[   1.            5.62341325   31.6227766   177.827941   1000.        ]\n"
     ]
    }
   ],
   "source": [
    "# Generate a sequence of 5 numbers spaced logarithmically between 1 and 1000\n",
    "arr = np.logspace(0, 3, 5)\n",
    "print(arr)  "
   ]
  },
  {
   "cell_type": "code",
   "execution_count": 34,
   "id": "7929c581",
   "metadata": {},
   "outputs": [
    {
     "name": "stdout",
     "output_type": "stream",
     "text": [
      "[0.70965947 0.78543698 0.01682409 0.65672314 0.56470689]\n"
     ]
    }
   ],
   "source": [
    "# Generate a sequence of 5 random numbers between 0 and 1\n",
    "arr = np.random.rand(5)\n",
    "print(arr)  "
   ]
  },
  {
   "cell_type": "code",
   "execution_count": 35,
   "id": "6e44a509",
   "metadata": {},
   "outputs": [
    {
     "name": "stdout",
     "output_type": "stream",
     "text": [
      "[6 8 7 2 4]\n"
     ]
    }
   ],
   "source": [
    "# Generate a sequence of 5 random integers between 0 and 9\n",
    "arr = np.random.randint(0, 10, 5)\n",
    "print(arr)  "
   ]
  },
  {
   "cell_type": "code",
   "execution_count": 37,
   "id": "c5741dbf",
   "metadata": {},
   "outputs": [
    {
     "name": "stdout",
     "output_type": "stream",
     "text": [
      "[0.54340494 0.27836939 0.42451759 0.84477613 0.00471886]\n"
     ]
    }
   ],
   "source": [
    "#Using NumPy's random module\n",
    "#Random module of numpy is used to generate various random sequences. \n",
    "\n",
    "np.random.seed(100)\n",
    "\n",
    "x = np.random.rand(5) #5 random numbers between 0 to 1\n",
    "print(x)"
   ]
  },
  {
   "cell_type": "code",
   "execution_count": 38,
   "id": "814a10ef",
   "metadata": {},
   "outputs": [
    {
     "data": {
      "text/plain": [
       "numpy.ndarray"
      ]
     },
     "execution_count": 38,
     "metadata": {},
     "output_type": "execute_result"
    }
   ],
   "source": [
    "type(x)"
   ]
  },
  {
   "cell_type": "code",
   "execution_count": 39,
   "id": "310d243c",
   "metadata": {
    "scrolled": true
   },
   "outputs": [
    {
     "name": "stdout",
     "output_type": "stream",
     "text": [
      "[63 76 24 44 34]\n"
     ]
    }
   ],
   "source": [
    "y = np.random.randint(10,100,5) #5 random numbers between 10 to 100\n",
    "print(y)"
   ]
  },
  {
   "cell_type": "code",
   "execution_count": 40,
   "id": "c34c4f69",
   "metadata": {
    "scrolled": false
   },
   "outputs": [
    {
     "name": "stdout",
     "output_type": "stream",
     "text": [
      "34\n"
     ]
    }
   ],
   "source": [
    "z = np.random.choice(y, size=None, replace=True, p=None)\n",
    "print(z)"
   ]
  },
  {
   "cell_type": "code",
   "execution_count": 41,
   "id": "f8b90bfc",
   "metadata": {},
   "outputs": [
    {
     "name": "stdout",
     "output_type": "stream",
     "text": [
      "44\n"
     ]
    }
   ],
   "source": [
    "z = np.random.choice(y, size=None, replace=True, p=None)\n",
    "print(z)"
   ]
  },
  {
   "cell_type": "code",
   "execution_count": 42,
   "id": "b492108a",
   "metadata": {},
   "outputs": [
    {
     "name": "stdout",
     "output_type": "stream",
     "text": [
      "34\n"
     ]
    }
   ],
   "source": [
    "z = np.random.choice(y, size=None, replace=True, p=None)\n",
    "print(z)"
   ]
  },
  {
   "cell_type": "code",
   "execution_count": 43,
   "id": "29b595c9",
   "metadata": {},
   "outputs": [
    {
     "name": "stdout",
     "output_type": "stream",
     "text": [
      "24\n"
     ]
    }
   ],
   "source": [
    "z = np.random.choice(y, size=None, replace=True, p=None)\n",
    "print(z)"
   ]
  },
  {
   "cell_type": "code",
   "execution_count": 44,
   "id": "ce24e967",
   "metadata": {},
   "outputs": [
    {
     "name": "stdout",
     "output_type": "stream",
     "text": [
      "[-0.45802699  0.43516349 -0.58359505]\n"
     ]
    }
   ],
   "source": [
    "x = np.random.randn(3) # Standard normal distribution \n",
    " \n",
    "print(x)"
   ]
  },
  {
   "cell_type": "code",
   "execution_count": 45,
   "id": "0ed09896",
   "metadata": {},
   "outputs": [
    {
     "name": "stdout",
     "output_type": "stream",
     "text": [
      "[[88.25 93.45 72.6  90.9 ]\n",
      " [72.3  78.85 92.15 65.75]\n",
      " [90.5  92.45 89.25 94.5 ]]\n"
     ]
    }
   ],
   "source": [
    "x = np.loadtxt('data.txt')\n",
    "print(x)"
   ]
  },
  {
   "cell_type": "code",
   "execution_count": null,
   "id": "8a8a8046",
   "metadata": {},
   "outputs": [],
   "source": []
  }
 ],
 "metadata": {
  "kernelspec": {
   "display_name": "Python 3 (ipykernel)",
   "language": "python",
   "name": "python3"
  },
  "language_info": {
   "codemirror_mode": {
    "name": "ipython",
    "version": 3
   },
   "file_extension": ".py",
   "mimetype": "text/x-python",
   "name": "python",
   "nbconvert_exporter": "python",
   "pygments_lexer": "ipython3",
   "version": "3.9.12"
  }
 },
 "nbformat": 4,
 "nbformat_minor": 5
}
